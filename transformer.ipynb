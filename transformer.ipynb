{
 "cells": [
  {
   "cell_type": "code",
   "execution_count": 1,
   "id": "3831f73d",
   "metadata": {
    "execution": {
     "iopub.execute_input": "2023-02-01T21:40:45.655997Z",
     "iopub.status.busy": "2023-02-01T21:40:45.655566Z",
     "iopub.status.idle": "2023-02-01T21:40:47.857727Z",
     "shell.execute_reply": "2023-02-01T21:40:47.856234Z"
    },
    "papermill": {
     "duration": 2.211308,
     "end_time": "2023-02-01T21:40:47.861715",
     "exception": false,
     "start_time": "2023-02-01T21:40:45.650407",
     "status": "completed"
    },
    "tags": []
   },
   "outputs": [],
   "source": [
    "import torch\n",
    "from torch import nn\n",
    "from transformers import AutoConfig\n",
    "from math import sqrt\n",
    "import torch.nn.functional as F"
   ]
  },
  {
   "cell_type": "code",
   "execution_count": 2,
   "id": "e570a02d",
   "metadata": {
    "execution": {
     "iopub.execute_input": "2023-02-01T21:40:47.868943Z",
     "iopub.status.busy": "2023-02-01T21:40:47.867893Z",
     "iopub.status.idle": "2023-02-01T21:40:47.874490Z",
     "shell.execute_reply": "2023-02-01T21:40:47.873334Z"
    },
    "papermill": {
     "duration": 0.012431,
     "end_time": "2023-02-01T21:40:47.876909",
     "exception": false,
     "start_time": "2023-02-01T21:40:47.864478",
     "status": "completed"
    },
    "tags": []
   },
   "outputs": [],
   "source": [
    "def scaled_dot_product_attention(query, key, value):\n",
    "    dim_k = query.size(-1)\n",
    "    scores = torch.bmm(query, key.transpose(1,2)) / sqrt(dim_k)\n",
    "    weights = F.softmax(scores, dim=-1)\n",
    "    return torch.bmm(weights, value)"
   ]
  },
  {
   "cell_type": "code",
   "execution_count": 3,
   "id": "9e17a8f6",
   "metadata": {
    "execution": {
     "iopub.execute_input": "2023-02-01T21:40:47.883687Z",
     "iopub.status.busy": "2023-02-01T21:40:47.883014Z",
     "iopub.status.idle": "2023-02-01T21:40:47.889096Z",
     "shell.execute_reply": "2023-02-01T21:40:47.888246Z"
    },
    "papermill": {
     "duration": 0.011673,
     "end_time": "2023-02-01T21:40:47.891167",
     "exception": false,
     "start_time": "2023-02-01T21:40:47.879494",
     "status": "completed"
    },
    "tags": []
   },
   "outputs": [],
   "source": [
    "class AttentionHead(nn.Module):\n",
    "    def __init__(self, embed_dim, head_dim):\n",
    "        super().__init__()\n",
    "        self.q = nn.Linear(embed_dim, head_dim)\n",
    "        self.k = nn.Linear(embed_dim, head_dim)\n",
    "        self.v = nn.Linear(embed_dim, head_dim)\n",
    "        \n",
    "    def forward(self, hidden_state):\n",
    "        attn_outputs = scaled_dot_product_attention(\n",
    "            self.q(hidden_state), \n",
    "            self.k(hidden_state), \n",
    "            self.v(hidden_state)\n",
    "        )   \n",
    "        return attn_outputs"
   ]
  },
  {
   "cell_type": "code",
   "execution_count": 4,
   "id": "f3e384b7",
   "metadata": {
    "execution": {
     "iopub.execute_input": "2023-02-01T21:40:47.897272Z",
     "iopub.status.busy": "2023-02-01T21:40:47.896855Z",
     "iopub.status.idle": "2023-02-01T21:40:47.904110Z",
     "shell.execute_reply": "2023-02-01T21:40:47.902991Z"
    },
    "papermill": {
     "duration": 0.013001,
     "end_time": "2023-02-01T21:40:47.906395",
     "exception": false,
     "start_time": "2023-02-01T21:40:47.893394",
     "status": "completed"
    },
    "tags": []
   },
   "outputs": [],
   "source": [
    "class MultiHeadAttention(nn.Module):\n",
    "    def __init__(self, config):\n",
    "        super().__init__()\n",
    "        embed_dim = config.hidden_size\n",
    "        num_heads = config.num_attention_heads\n",
    "        head_dim = embed_dim // num_heads\n",
    "        self.heads = nn.ModuleList([AttentionHead(embed_dim, head_dim) for _ in range(num_heads)])\n",
    "        self.output_linear = nn.Linear(embed_dim, embed_dim)\n",
    "        \n",
    "    def forward(self, hidden_state):\n",
    "        x = torch.cat([h(hidden_state) for h in self.heads], dim=-1)\n",
    "        x = self.output_linear(x)\n",
    "        return x"
   ]
  },
  {
   "cell_type": "code",
   "execution_count": null,
   "id": "a124830a",
   "metadata": {
    "papermill": {
     "duration": 0.001834,
     "end_time": "2023-02-01T21:40:47.910450",
     "exception": false,
     "start_time": "2023-02-01T21:40:47.908616",
     "status": "completed"
    },
    "tags": []
   },
   "outputs": [],
   "source": []
  }
 ],
 "metadata": {
  "kernelspec": {
   "display_name": "Python 3",
   "language": "python",
   "name": "python3"
  },
  "language_info": {
   "codemirror_mode": {
    "name": "ipython",
    "version": 3
   },
   "file_extension": ".py",
   "mimetype": "text/x-python",
   "name": "python",
   "nbconvert_exporter": "python",
   "pygments_lexer": "ipython3",
   "version": "3.7.12"
  },
  "papermill": {
   "default_parameters": {},
   "duration": 11.183718,
   "end_time": "2023-02-01T21:40:48.733878",
   "environment_variables": {},
   "exception": null,
   "input_path": "__notebook__.ipynb",
   "output_path": "__notebook__.ipynb",
   "parameters": {},
   "start_time": "2023-02-01T21:40:37.550160",
   "version": "2.3.4"
  }
 },
 "nbformat": 4,
 "nbformat_minor": 5
}
