{
 "cells": [
  {
   "cell_type": "code",
   "execution_count": 1,
   "id": "494c1d6e",
   "metadata": {
    "execution": {
     "iopub.execute_input": "2023-02-02T21:41:11.891576Z",
     "iopub.status.busy": "2023-02-02T21:41:11.890493Z",
     "iopub.status.idle": "2023-02-02T21:41:14.395804Z",
     "shell.execute_reply": "2023-02-02T21:41:14.394693Z"
    },
    "papermill": {
     "duration": 2.515619,
     "end_time": "2023-02-02T21:41:14.398737",
     "exception": false,
     "start_time": "2023-02-02T21:41:11.883118",
     "status": "completed"
    },
    "tags": []
   },
   "outputs": [],
   "source": [
    "import torch\n",
    "from torch import nn\n",
    "from transformers import AutoConfig\n",
    "from math import sqrt\n",
    "import torch.nn.functional as F"
   ]
  },
  {
   "cell_type": "code",
   "execution_count": 2,
   "id": "0c4b2b43",
   "metadata": {
    "execution": {
     "iopub.execute_input": "2023-02-02T21:41:14.407453Z",
     "iopub.status.busy": "2023-02-02T21:41:14.406912Z",
     "iopub.status.idle": "2023-02-02T21:41:14.413255Z",
     "shell.execute_reply": "2023-02-02T21:41:14.412073Z"
    },
    "papermill": {
     "duration": 0.012943,
     "end_time": "2023-02-02T21:41:14.415356",
     "exception": false,
     "start_time": "2023-02-02T21:41:14.402413",
     "status": "completed"
    },
    "tags": []
   },
   "outputs": [],
   "source": [
    "def scaled_dot_product_attention(query, key, value):\n",
    "    dim_k = query.size(-1)\n",
    "    scores = torch.bmm(query, key.transpose(1,2)) / sqrt(dim_k)\n",
    "    weights = F.softmax(scores, dim=-1)\n",
    "    return torch.bmm(weights, value)"
   ]
  },
  {
   "cell_type": "code",
   "execution_count": 3,
   "id": "2ff91f0f",
   "metadata": {
    "execution": {
     "iopub.execute_input": "2023-02-02T21:41:14.425081Z",
     "iopub.status.busy": "2023-02-02T21:41:14.423744Z",
     "iopub.status.idle": "2023-02-02T21:41:14.431674Z",
     "shell.execute_reply": "2023-02-02T21:41:14.430803Z"
    },
    "papermill": {
     "duration": 0.015181,
     "end_time": "2023-02-02T21:41:14.434130",
     "exception": false,
     "start_time": "2023-02-02T21:41:14.418949",
     "status": "completed"
    },
    "tags": []
   },
   "outputs": [],
   "source": [
    "class AttentionHead(nn.Module):\n",
    "    def __init__(self, embed_dim, head_dim):\n",
    "        super().__init__()\n",
    "        self.q = nn.Linear(embed_dim, head_dim)\n",
    "        self.k = nn.Linear(embed_dim, head_dim)\n",
    "        self.v = nn.Linear(embed_dim, head_dim)\n",
    "        \n",
    "    def forward(self, hidden_state):\n",
    "        attn_outputs = scaled_dot_product_attention(\n",
    "            self.q(hidden_state), \n",
    "            self.k(hidden_state), \n",
    "            self.v(hidden_state)\n",
    "        )   \n",
    "        return attn_outputs"
   ]
  },
  {
   "cell_type": "code",
   "execution_count": 4,
   "id": "b590d670",
   "metadata": {
    "execution": {
     "iopub.execute_input": "2023-02-02T21:41:14.443389Z",
     "iopub.status.busy": "2023-02-02T21:41:14.442305Z",
     "iopub.status.idle": "2023-02-02T21:41:14.450525Z",
     "shell.execute_reply": "2023-02-02T21:41:14.449363Z"
    },
    "papermill": {
     "duration": 0.015461,
     "end_time": "2023-02-02T21:41:14.453162",
     "exception": false,
     "start_time": "2023-02-02T21:41:14.437701",
     "status": "completed"
    },
    "tags": []
   },
   "outputs": [],
   "source": [
    "class MultiHeadAttention(nn.Module):\n",
    "    def __init__(self, config):\n",
    "        super().__init__()\n",
    "        embed_dim = config.hidden_size\n",
    "        num_heads = config.num_attention_heads\n",
    "        head_dim = embed_dim // num_heads\n",
    "        self.heads = nn.ModuleList([AttentionHead(embed_dim, head_dim) for _ in range(num_heads)])\n",
    "        self.output_linear = nn.Linear(embed_dim, embed_dim)\n",
    "        \n",
    "    def forward(self, hidden_state):\n",
    "        x = torch.cat([h(hidden_state) for h in self.heads], dim=-1)\n",
    "        x = self.output_linear(x)\n",
    "        return x"
   ]
  },
  {
   "cell_type": "code",
   "execution_count": 5,
   "id": "98434d73",
   "metadata": {
    "execution": {
     "iopub.execute_input": "2023-02-02T21:41:14.461744Z",
     "iopub.status.busy": "2023-02-02T21:41:14.461109Z",
     "iopub.status.idle": "2023-02-02T21:41:14.469037Z",
     "shell.execute_reply": "2023-02-02T21:41:14.467734Z"
    },
    "papermill": {
     "duration": 0.014612,
     "end_time": "2023-02-02T21:41:14.471296",
     "exception": false,
     "start_time": "2023-02-02T21:41:14.456684",
     "status": "completed"
    },
    "tags": []
   },
   "outputs": [],
   "source": [
    "class FeedForward(nn.Module):\n",
    "    def __init__(self, config):\n",
    "        super().__init__()\n",
    "        self.linear_1 = nn.Linear(config.hidden_size, config.intermediate_size)\n",
    "        self.linear_2 = nn.Linear(config.intermediate_size, config.hidden_size)\n",
    "        self.gelu = nn.GELU()\n",
    "        self.dropout = nn.Dropout(config.hidden_dropout_prob)\n",
    "    \n",
    "    def forward(self, x):\n",
    "        x = self.linear_1(x)\n",
    "        x = self.gelu(x)\n",
    "        x = self.linear_2(x)\n",
    "        x = self.dropout(x)\n",
    "        return x"
   ]
  },
  {
   "cell_type": "code",
   "execution_count": 6,
   "id": "deba2325",
   "metadata": {
    "execution": {
     "iopub.execute_input": "2023-02-02T21:41:14.479467Z",
     "iopub.status.busy": "2023-02-02T21:41:14.479079Z",
     "iopub.status.idle": "2023-02-02T21:41:14.485566Z",
     "shell.execute_reply": "2023-02-02T21:41:14.484749Z"
    },
    "papermill": {
     "duration": 0.012991,
     "end_time": "2023-02-02T21:41:14.487577",
     "exception": false,
     "start_time": "2023-02-02T21:41:14.474586",
     "status": "completed"
    },
    "tags": []
   },
   "outputs": [],
   "source": [
    "class TransformerEncoderLayer(nn.Module):\n",
    "    def __init__(self, config):\n",
    "        super().__init__()\n",
    "        self.layer_norm_1 = nn.LayerNorm(config.hidden_size)\n",
    "        self.layer_norm_2 = nn.LayerNorm(config.hidden_size)\n",
    "        self.attention = MultiHeadAttention(config)\n",
    "        self.feed_forward = FeedForward(config)\n",
    "        \n",
    "    def forward(self, x):\n",
    "        hidden_state = self.layer_norm_1(x)\n",
    "        x = x + self.attention(hidden_state)\n",
    "        x = x + self.feed_forward(self.layer_norm_2(x))\n",
    "        return x"
   ]
  },
  {
   "cell_type": "code",
   "execution_count": 7,
   "id": "faa7fc5b",
   "metadata": {
    "execution": {
     "iopub.execute_input": "2023-02-02T21:41:14.496101Z",
     "iopub.status.busy": "2023-02-02T21:41:14.495433Z",
     "iopub.status.idle": "2023-02-02T21:41:14.503802Z",
     "shell.execute_reply": "2023-02-02T21:41:14.502636Z"
    },
    "papermill": {
     "duration": 0.015104,
     "end_time": "2023-02-02T21:41:14.506066",
     "exception": false,
     "start_time": "2023-02-02T21:41:14.490962",
     "status": "completed"
    },
    "tags": []
   },
   "outputs": [],
   "source": [
    "class Embeddings(nn.Module):\n",
    "    def __init__(self, config):\n",
    "        super().__init__()\n",
    "        self.token_embeddings = nn.Embedding(config.vocab_size, config.hidden_size)\n",
    "        self.position_embeddings = nn.Embedding(config.max_position_embeddings, config.hidden_size)\n",
    "        self.layer_norm = nn.LayerNorm(config.hidden_size, eps=1e-12)\n",
    "        self.dropout = nn.Dropout()\n",
    "    \n",
    "    def forward(self, input_ids):\n",
    "        seq_length = input_ids.size()\n",
    "        position_ids = torch.arange(seq_length, dtype=torch.long).unsqueeze(0)\n",
    "        token_embeddings = self.token_embeddings(input_ids)\n",
    "        position_embeddings = self.position_embeddings(position_ids)\n",
    "        embeddings = token_embeddings + position_embeddings\n",
    "        embeddings = self.layer_norm(embeddings)\n",
    "        embeddings = self.dropout(embeddings)\n",
    "        return embeddings"
   ]
  },
  {
   "cell_type": "code",
   "execution_count": 8,
   "id": "de4ec21f",
   "metadata": {
    "execution": {
     "iopub.execute_input": "2023-02-02T21:41:14.514758Z",
     "iopub.status.busy": "2023-02-02T21:41:14.514098Z",
     "iopub.status.idle": "2023-02-02T21:41:14.521622Z",
     "shell.execute_reply": "2023-02-02T21:41:14.520620Z"
    },
    "papermill": {
     "duration": 0.014528,
     "end_time": "2023-02-02T21:41:14.523994",
     "exception": false,
     "start_time": "2023-02-02T21:41:14.509466",
     "status": "completed"
    },
    "tags": []
   },
   "outputs": [],
   "source": [
    "class TransformerEncoder(nn.Module):\n",
    "    def __init__(self, config):\n",
    "        super().__init__()\n",
    "        self.embeddings = Embeddings(config)\n",
    "        self.layers = nn.ModuleList([TransformerEncoderLayer(config) for _ in range(config.num_hidden_layers)])\n",
    "        \n",
    "    def forward(self, x):\n",
    "        x = self.embeddings(x)\n",
    "        for layer in self.layers:\n",
    "            x = layer(x)\n",
    "        return x"
   ]
  },
  {
   "cell_type": "code",
   "execution_count": 9,
   "id": "6b71e649",
   "metadata": {
    "execution": {
     "iopub.execute_input": "2023-02-02T21:41:14.533245Z",
     "iopub.status.busy": "2023-02-02T21:41:14.532027Z",
     "iopub.status.idle": "2023-02-02T21:41:14.540369Z",
     "shell.execute_reply": "2023-02-02T21:41:14.539030Z"
    },
    "papermill": {
     "duration": 0.015688,
     "end_time": "2023-02-02T21:41:14.543146",
     "exception": false,
     "start_time": "2023-02-02T21:41:14.527458",
     "status": "completed"
    },
    "tags": []
   },
   "outputs": [],
   "source": [
    "class TransformerForSequenceClassification(nn.Module):\n",
    "    def __init__(self, config):\n",
    "        super().__init__()\n",
    "        self.encoder = TransformerEncoder(config)\n",
    "        self.dropout = nn.Dropout(config.hidden_dropout_prob)\n",
    "        self.classifier = nn.Linear(config.hidden_size, config.num_labels)\n",
    "    \n",
    "    def forward(self, x):\n",
    "        x = self.encoder(x)[:,0,:]\n",
    "        x = self.dropout(x)\n",
    "        x = self.classifier(x)\n",
    "        return x"
   ]
  },
  {
   "cell_type": "code",
   "execution_count": null,
   "id": "d0e71b40",
   "metadata": {
    "papermill": {
     "duration": 0.003264,
     "end_time": "2023-02-02T21:41:14.550293",
     "exception": false,
     "start_time": "2023-02-02T21:41:14.547029",
     "status": "completed"
    },
    "tags": []
   },
   "outputs": [],
   "source": []
  }
 ],
 "metadata": {
  "kernelspec": {
   "display_name": "Python 3",
   "language": "python",
   "name": "python3"
  },
  "language_info": {
   "codemirror_mode": {
    "name": "ipython",
    "version": 3
   },
   "file_extension": ".py",
   "mimetype": "text/x-python",
   "name": "python",
   "nbconvert_exporter": "python",
   "pygments_lexer": "ipython3",
   "version": "3.7.12"
  },
  "papermill": {
   "default_parameters": {},
   "duration": 12.510981,
   "end_time": "2023-02-02T21:41:15.376102",
   "environment_variables": {},
   "exception": null,
   "input_path": "__notebook__.ipynb",
   "output_path": "__notebook__.ipynb",
   "parameters": {},
   "start_time": "2023-02-02T21:41:02.865121",
   "version": "2.3.4"
  }
 },
 "nbformat": 4,
 "nbformat_minor": 5
}
